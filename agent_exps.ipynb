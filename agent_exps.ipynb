{
 "cells": [
  {
   "cell_type": "markdown",
   "metadata": {},
   "source": [
    "# loading data and creating methods"
   ]
  },
  {
   "cell_type": "code",
   "execution_count": 1,
   "metadata": {},
   "outputs": [
    {
     "name": "stderr",
     "output_type": "stream",
     "text": [
      "c:\\Users\\zahdehv\\Documents\\GITHUB Media\\pokemon-python\\.venv\\Lib\\site-packages\\tqdm\\auto.py:21: TqdmWarning: IProgress not found. Please update jupyter and ipywidgets. See https://ipywidgets.readthedocs.io/en/stable/user_install.html\n",
      "  from .autonotebook import tqdm as notebook_tqdm\n"
     ]
    }
   ],
   "source": [
    "import pyreason as pr\n",
    "from loramon import TrainerBase, TrainerBDIF, do_battle, TrainerLLMFeed, TrainerLLMFeedSC, TrainerLLM\n",
    "from tools.pick_six import agent_create_team\n",
    "from itertools import permutations\n",
    "from sim.sim import dict_to_team_set\n",
    "import google.generativeai as genai\n",
    "from collections import Counter\n",
    "from scipy.stats import binomtest\n",
    "import os\n",
    "\n",
    "os.environ[\"API_KEY\"] = open(\"api_key.txt\").read()\n",
    "genai.configure(api_key=os.environ[\"API_KEY\"])"
   ]
  },
  {
   "cell_type": "code",
   "execution_count": 3,
   "metadata": {},
   "outputs": [],
   "source": [
    "def do_matches(p1: TrainerBase,p2: TrainerBase, debug = False):\n",
    "    teams = []\n",
    "    for _ in range(6):\n",
    "        teams.append(dict_to_team_set(agent_create_team()))\n",
    "    matches = list(permutations(teams, 2))\n",
    "\n",
    "    victor = []\n",
    "\n",
    "    for i, mtch in enumerate(matches):\n",
    "        print(\"mtch:\", i) #, mtch)\n",
    "        p1.team = mtch[0]\n",
    "        p2.team = mtch[1]\n",
    "        try:\n",
    "            _, winner = do_battle(p1, p2, debug=debug)\n",
    "\n",
    "            if winner:\n",
    "                victor.append(winner.name)\n",
    "                \n",
    "        except Exception as e:\n",
    "            print(\"battle failed:\", e)\n",
    "    return victor\n",
    "\n",
    "\n",
    "def show_results(names):\n",
    "\n",
    "    frequency = Counter(names)\n",
    "    total_count = len(names)\n",
    "\n",
    "    percentage = {name: (count / total_count) * 100 for name, count in frequency.items()}\n",
    "\n",
    "    table = []\n",
    "    table.append([\"Name\", \"Won\", \"Percentage (%)\"])\n",
    "    for name in frequency:\n",
    "        table.append([name, frequency[name], round(percentage[name], 2)])\n",
    "\n",
    "    for row in table:\n",
    "        print(\"{:<10} {:<10} {:<10}\".format(*row))\n"
   ]
  },
  {
   "cell_type": "markdown",
   "metadata": {},
   "source": [
    "# bdi vs random base"
   ]
  },
  {
   "cell_type": "code",
   "execution_count": 6,
   "metadata": {},
   "outputs": [],
   "source": [
    "BASELINE_RULES=[\n",
    "    # reglas para la relevancia de deseos\n",
    "    pr.Rule('desire_h(A,B) <-0 desire_hh(A,B)', 'desire_h_1'),\n",
    "    pr.Rule('desire_m(A,B) <-0 desire_h(A,B)', 'desire_h_2'),\n",
    "    pr.Rule('desire_l(A,B) <-0 desire_m(A,B)', 'desire_h_3'),\n",
    "    pr.Rule('desire_ll(A,B) <-0 desire_l(A,B)', 'desire_h_4'),\n",
    "    pr.Rule('desire_m(switch,P) <-0 is_switch(switch), is_foe(P, F), on_field_against(C, F), fainted(C)', 'switch_f'),\n",
    "    \n",
    "    # reglas para la seleccion de atacar segun efectividad\n",
    "    pr.Rule('desire_l(move,M) <-0 has_move(P,M), on_field_against(P, F), is_use(move), move_type(M, MT), pokemon_type(F, FT) , effectiveness(MT,FT):[0.2,1.0]', 'move1'),\n",
    "    pr.Rule('desire_m(move,M) <-0 has_move(P,M), on_field_against(P, F), is_use(move), move_type(M, MT), pokemon_type(F, FT) , effectiveness(MT,FT):[0.4,1.0]', 'move2'),\n",
    "    pr.Rule('desire_hh(move,M) <-0 has_move(P,M), on_field_against(P, F), is_use(move), move_type(M, MT), pokemon_type(F, FT) , effectiveness(MT,FT):[0.8,1.0]', 'move3'),\n",
    "\n",
    "    # reglas para el switcheo a un pokemon con mayor ventaja\n",
    "    pr.Rule('desire_ll(switch,P) <-0 is_foe(P, F), is_switch(switch), has_move(P, M), move_type(M, MT), pokemon_type(F, FT), effectiveness(MT,FT):[0.2,1.0]', 'switch1'),\n",
    "    pr.Rule('desire_l(switch,P) <-0 is_foe(P, F), is_switch(switch), has_move(P, M), move_type(M, MT), pokemon_type(F, FT), effectiveness(MT,FT):[0.4,1.0]', 'switch2'),\n",
    "    pr.Rule('desire_m(switch,P) <-0 is_foe(P, F), is_switch(switch), has_move(P, M), move_type(M, MT), pokemon_type(F, FT), effectiveness(MT,FT):[0.8,1.0]', 'switch3'),\n",
    "]\n",
    "LESS_SWITCH_RULES=[\n",
    "    # reglas para la relevancia de deseos\n",
    "    pr.Rule('desire_h(A,B) <-0 desire_hh(A,B)', 'desire_h_1'),\n",
    "    pr.Rule('desire_m(A,B) <-0 desire_h(A,B)', 'desire_h_2'),\n",
    "    pr.Rule('desire_l(A,B) <-0 desire_m(A,B)', 'desire_h_3'),\n",
    "    pr.Rule('desire_ll(A,B) <-0 desire_l(A,B)', 'desire_h_4'),\n",
    "    pr.Rule('desire_ll(switch,P) <-0 is_switch(switch), is_foe(P, F), on_field_against(C, F), fainted(C)', 'switch_f'),\n",
    "    \n",
    "    # reglas para la seleccion de atacar segun efectividad\n",
    "    pr.Rule('desire_ll(move,M) <-0 has_move(P,M), on_field_against(P, F), is_use(move), move_type(M, MT), pokemon_type(F, FT) , effectiveness(MT,FT):[0.0,1.0]', 'move1'),\n",
    "    pr.Rule('desire_l(move,M) <-0 has_move(P,M), on_field_against(P, F), is_use(move), move_type(M, MT), pokemon_type(F, FT) , effectiveness(MT,FT):[0.2,1.0]', 'move1'),\n",
    "    pr.Rule('desire_m(move,M) <-0 has_move(P,M), on_field_against(P, F), is_use(move), move_type(M, MT), pokemon_type(F, FT) , effectiveness(MT,FT):[0.4,1.0]', 'move2'),\n",
    "    pr.Rule('desire_hh(move,M) <-0 has_move(P,M), on_field_against(P, F), is_use(move), move_type(M, MT), pokemon_type(F, FT) , effectiveness(MT,FT):[0.8,1.0]', 'move3'),\n",
    "\n",
    "    # reglas para el switcheo a un pokemon con mayor ventaja\n",
    "    pr.Rule('desire_ll(switch,P) <-0 is_foe(P, F), is_switch(switch), has_move(P, M), move_type(M, MT), pokemon_type(F, FT), effectiveness(MT,FT):[0.4,1.0]', 'switch2'),\n",
    "    pr.Rule('desire_l(switch,P) <-0 is_foe(P, F), is_switch(switch), has_move(P, M), move_type(M, MT), pokemon_type(F, FT), effectiveness(MT,FT):[0.8,1.0]', 'switch3'),\n",
    "]"
   ]
  },
  {
   "cell_type": "code",
   "execution_count": 8,
   "metadata": {},
   "outputs": [
    {
     "name": "stdout",
     "output_type": "stream",
     "text": [
      "mtch: 0\n"
     ]
    },
    {
     "ename": "KeyboardInterrupt",
     "evalue": "",
     "output_type": "error",
     "traceback": [
      "\u001b[1;31m---------------------------------------------------------------------------\u001b[0m",
      "\u001b[1;31mKeyboardInterrupt\u001b[0m                         Traceback (most recent call last)",
      "Cell \u001b[1;32mIn[8], line 1\u001b[0m\n\u001b[1;32m----> 1\u001b[0m results_bdi_vs_base \u001b[38;5;241m=\u001b[39m \u001b[43mdo_matches\u001b[49m\u001b[43m(\u001b[49m\u001b[43mTrainerBDIF\u001b[49m\u001b[43m(\u001b[49m\u001b[38;5;124;43m\"\u001b[39;49m\u001b[38;5;124;43mBDI\u001b[39;49m\u001b[38;5;124;43m\"\u001b[39;49m\u001b[43m,\u001b[49m\u001b[43m \u001b[49m\u001b[43mLESS_SWITCH_RULES\u001b[49m\u001b[43m)\u001b[49m\u001b[43m,\u001b[49m\u001b[43m \u001b[49m\u001b[43mTrainerBase\u001b[49m\u001b[43m(\u001b[49m\u001b[38;5;124;43m\"\u001b[39;49m\u001b[38;5;124;43mBASE\u001b[39;49m\u001b[38;5;124;43m\"\u001b[39;49m\u001b[43m)\u001b[49m\u001b[43m)\u001b[49m\n",
      "Cell \u001b[1;32mIn[3], line 14\u001b[0m, in \u001b[0;36mdo_matches\u001b[1;34m(p1, p2, debug)\u001b[0m\n\u001b[0;32m     12\u001b[0m p1\u001b[38;5;241m.\u001b[39mteam \u001b[38;5;241m=\u001b[39m mtch[\u001b[38;5;241m0\u001b[39m]\n\u001b[0;32m     13\u001b[0m p2\u001b[38;5;241m.\u001b[39mteam \u001b[38;5;241m=\u001b[39m mtch[\u001b[38;5;241m1\u001b[39m]\n\u001b[1;32m---> 14\u001b[0m _, winner \u001b[38;5;241m=\u001b[39m \u001b[43mdo_battle\u001b[49m\u001b[43m(\u001b[49m\u001b[43mp1\u001b[49m\u001b[43m,\u001b[49m\u001b[43m \u001b[49m\u001b[43mp2\u001b[49m\u001b[43m,\u001b[49m\u001b[43m \u001b[49m\u001b[43mdebug\u001b[49m\u001b[38;5;241;43m=\u001b[39;49m\u001b[43mdebug\u001b[49m\u001b[43m)\u001b[49m\n\u001b[0;32m     16\u001b[0m \u001b[38;5;28;01mif\u001b[39;00m winner:\n\u001b[0;32m     17\u001b[0m     victor\u001b[38;5;241m.\u001b[39mappend(winner\u001b[38;5;241m.\u001b[39mname)\n",
      "File \u001b[1;32mc:\\Users\\zahdehv\\Documents\\GITHUB Media\\pokemon-python\\loramon.py:544\u001b[0m, in \u001b[0;36mdo_battle\u001b[1;34m(t1, t2, debug)\u001b[0m\n\u001b[0;32m    542\u001b[0m \u001b[38;5;28;01mif\u001b[39;00m debug:\n\u001b[0;32m    543\u001b[0m     \u001b[38;5;28mprint\u001b[39m(t1\u001b[38;5;241m.\u001b[39mname,\u001b[38;5;124m'\u001b[39m\u001b[38;5;124mis thinking...\u001b[39m\u001b[38;5;124m'\u001b[39m)\n\u001b[1;32m--> 544\u001b[0m B\u001b[38;5;241m.\u001b[39mp1\u001b[38;5;241m.\u001b[39mchoice \u001b[38;5;241m=\u001b[39m \u001b[43mt1\u001b[49m\u001b[38;5;241;43m.\u001b[39;49m\u001b[43mchoose\u001b[49m\u001b[43m(\u001b[49m\u001b[43mB\u001b[49m\u001b[38;5;241;43m.\u001b[39;49m\u001b[43mp1\u001b[49m\u001b[43m,\u001b[49m\u001b[43m \u001b[49m\u001b[43mB\u001b[49m\u001b[38;5;241;43m.\u001b[39;49m\u001b[43mp2\u001b[49m\u001b[43m)\u001b[49m\n\u001b[0;32m    545\u001b[0m \u001b[38;5;28;01mif\u001b[39;00m debug:\n\u001b[0;32m    546\u001b[0m     \u001b[38;5;28mprint\u001b[39m(t2\u001b[38;5;241m.\u001b[39mname,\u001b[38;5;124m'\u001b[39m\u001b[38;5;124mis thinking...\u001b[39m\u001b[38;5;124m'\u001b[39m)\n",
      "File \u001b[1;32mc:\\Users\\zahdehv\\Documents\\GITHUB Media\\pokemon-python\\loramon.py:247\u001b[0m, in \u001b[0;36mTrainerBDIF.choose\u001b[1;34m(self, me, foe)\u001b[0m\n\u001b[0;32m    245\u001b[0m pr\u001b[38;5;241m.\u001b[39msettings\u001b[38;5;241m.\u001b[39mverbose\u001b[38;5;241m=\u001b[39m\u001b[38;5;28;01mFalse\u001b[39;00m\n\u001b[0;32m    246\u001b[0m \u001b[38;5;66;03m# print(\"reasoning\")\u001b[39;00m\n\u001b[1;32m--> 247\u001b[0m interpretation \u001b[38;5;241m=\u001b[39m \u001b[43mpr\u001b[49m\u001b[38;5;241;43m.\u001b[39;49m\u001b[43mreason\u001b[49m\u001b[43m(\u001b[49m\u001b[43mtimesteps\u001b[49m\u001b[38;5;241;43m=\u001b[39;49m\u001b[38;5;241;43m3\u001b[39;49m\u001b[43m)\u001b[49m\n\u001b[0;32m    249\u001b[0m \u001b[38;5;28;01mfor\u001b[39;00m plan \u001b[38;5;129;01min\u001b[39;00m \u001b[38;5;28mlist\u001b[39m(\u001b[38;5;28mself\u001b[39m\u001b[38;5;241m.\u001b[39mdesires):\n\u001b[0;32m    250\u001b[0m     \u001b[38;5;28;01mif\u001b[39;00m plan \u001b[38;5;129;01min\u001b[39;00m \u001b[38;5;28mself\u001b[39m\u001b[38;5;241m.\u001b[39mplan_library:\n",
      "File \u001b[1;32mc:\\Users\\zahdehv\\Documents\\GITHUB Media\\pokemon-python\\.venv\\Lib\\site-packages\\pyreason\\pyreason.py:543\u001b[0m, in \u001b[0;36mreason\u001b[1;34m(timesteps, convergence_threshold, convergence_bound_threshold, again, node_facts, edge_facts)\u001b[0m\n\u001b[0;32m    541\u001b[0m         \u001b[38;5;28mprint\u001b[39m(\u001b[38;5;124mf\u001b[39m\u001b[38;5;124m\"\u001b[39m\u001b[38;5;130;01m\\n\u001b[39;00m\u001b[38;5;124mProgram used \u001b[39m\u001b[38;5;132;01m{\u001b[39;00mmem_usage\u001b[38;5;241m-\u001b[39mstart_mem\u001b[38;5;132;01m}\u001b[39;00m\u001b[38;5;124m MB of memory\u001b[39m\u001b[38;5;124m\"\u001b[39m)\n\u001b[0;32m    542\u001b[0m     \u001b[38;5;28;01melse\u001b[39;00m:\n\u001b[1;32m--> 543\u001b[0m         interp \u001b[38;5;241m=\u001b[39m \u001b[43m_reason\u001b[49m\u001b[43m(\u001b[49m\u001b[43mtimesteps\u001b[49m\u001b[43m,\u001b[49m\u001b[43m \u001b[49m\u001b[43mconvergence_threshold\u001b[49m\u001b[43m,\u001b[49m\u001b[43m \u001b[49m\u001b[43mconvergence_bound_threshold\u001b[49m\u001b[43m)\u001b[49m\n\u001b[0;32m    544\u001b[0m \u001b[38;5;28;01melse\u001b[39;00m:\n\u001b[0;32m    545\u001b[0m     \u001b[38;5;28;01mif\u001b[39;00m settings\u001b[38;5;241m.\u001b[39mmemory_profile:\n",
      "File \u001b[1;32mc:\\Users\\zahdehv\\Documents\\GITHUB Media\\pokemon-python\\.venv\\Lib\\site-packages\\pyreason\\pyreason.py:621\u001b[0m, in \u001b[0;36m_reason\u001b[1;34m(timesteps, convergence_threshold, convergence_bound_threshold)\u001b[0m\n\u001b[0;32m    618\u001b[0m __program\u001b[38;5;241m.\u001b[39mspecific_edge_labels \u001b[38;5;241m=\u001b[39m __specific_edge_labels\n\u001b[0;32m    620\u001b[0m \u001b[38;5;66;03m# Run Program and get final interpretation\u001b[39;00m\n\u001b[1;32m--> 621\u001b[0m interpretation \u001b[38;5;241m=\u001b[39m \u001b[43m__program\u001b[49m\u001b[38;5;241;43m.\u001b[39;49m\u001b[43mreason\u001b[49m\u001b[43m(\u001b[49m\u001b[43mtimesteps\u001b[49m\u001b[43m,\u001b[49m\u001b[43m \u001b[49m\u001b[43mconvergence_threshold\u001b[49m\u001b[43m,\u001b[49m\u001b[43m \u001b[49m\u001b[43mconvergence_bound_threshold\u001b[49m\u001b[43m,\u001b[49m\u001b[43m \u001b[49m\u001b[43msettings\u001b[49m\u001b[38;5;241;43m.\u001b[39;49m\u001b[43mverbose\u001b[49m\u001b[43m)\u001b[49m\n\u001b[0;32m    623\u001b[0m \u001b[38;5;28;01mreturn\u001b[39;00m interpretation\n",
      "File \u001b[1;32mc:\\Users\\zahdehv\\Documents\\GITHUB Media\\pokemon-python\\.venv\\Lib\\site-packages\\pyreason\\scripts\\program\\program.py:41\u001b[0m, in \u001b[0;36mProgram.reason\u001b[1;34m(self, tmax, convergence_threshold, convergence_bound_threshold, verbose)\u001b[0m\n\u001b[0;32m     39\u001b[0m \u001b[38;5;28;01melse\u001b[39;00m:\n\u001b[0;32m     40\u001b[0m \t\u001b[38;5;28mself\u001b[39m\u001b[38;5;241m.\u001b[39minterp \u001b[38;5;241m=\u001b[39m Interpretation(\u001b[38;5;28mself\u001b[39m\u001b[38;5;241m.\u001b[39m_graph, \u001b[38;5;28mself\u001b[39m\u001b[38;5;241m.\u001b[39m_ipl, \u001b[38;5;28mself\u001b[39m\u001b[38;5;241m.\u001b[39m_annotation_functions, \u001b[38;5;28mself\u001b[39m\u001b[38;5;241m.\u001b[39m_reverse_graph, \u001b[38;5;28mself\u001b[39m\u001b[38;5;241m.\u001b[39m_atom_trace, \u001b[38;5;28mself\u001b[39m\u001b[38;5;241m.\u001b[39m_save_graph_attributes_to_rule_trace, \u001b[38;5;28mself\u001b[39m\u001b[38;5;241m.\u001b[39m_canonical, \u001b[38;5;28mself\u001b[39m\u001b[38;5;241m.\u001b[39m_inconsistency_check, \u001b[38;5;28mself\u001b[39m\u001b[38;5;241m.\u001b[39m_store_interpretation_changes, \u001b[38;5;28mself\u001b[39m\u001b[38;5;241m.\u001b[39m_update_mode)\n\u001b[1;32m---> 41\u001b[0m \u001b[38;5;28;43mself\u001b[39;49m\u001b[38;5;241;43m.\u001b[39;49m\u001b[43minterp\u001b[49m\u001b[38;5;241;43m.\u001b[39;49m\u001b[43mstart_fp\u001b[49m\u001b[43m(\u001b[49m\u001b[38;5;28;43mself\u001b[39;49m\u001b[38;5;241;43m.\u001b[39;49m\u001b[43m_tmax\u001b[49m\u001b[43m,\u001b[49m\u001b[43m \u001b[49m\u001b[38;5;28;43mself\u001b[39;49m\u001b[38;5;241;43m.\u001b[39;49m\u001b[43m_facts_node\u001b[49m\u001b[43m,\u001b[49m\u001b[43m \u001b[49m\u001b[38;5;28;43mself\u001b[39;49m\u001b[38;5;241;43m.\u001b[39;49m\u001b[43m_facts_edge\u001b[49m\u001b[43m,\u001b[49m\u001b[43m \u001b[49m\u001b[38;5;28;43mself\u001b[39;49m\u001b[38;5;241;43m.\u001b[39;49m\u001b[43m_rules\u001b[49m\u001b[43m,\u001b[49m\u001b[43m \u001b[49m\u001b[43mverbose\u001b[49m\u001b[43m,\u001b[49m\u001b[43m \u001b[49m\u001b[43mconvergence_threshold\u001b[49m\u001b[43m,\u001b[49m\u001b[43m \u001b[49m\u001b[43mconvergence_bound_threshold\u001b[49m\u001b[43m)\u001b[49m\n\u001b[0;32m     43\u001b[0m \u001b[38;5;28;01mreturn\u001b[39;00m \u001b[38;5;28mself\u001b[39m\u001b[38;5;241m.\u001b[39minterp\n",
      "File \u001b[1;32mc:\\Users\\zahdehv\\Documents\\GITHUB Media\\pokemon-python\\.venv\\Lib\\site-packages\\pyreason\\scripts\\interpretation\\interpretation.py:171\u001b[0m, in \u001b[0;36mInterpretation.start_fp\u001b[1;34m(self, tmax, facts_node, facts_edge, rules, verbose, convergence_threshold, convergence_bound_threshold, again)\u001b[0m\n\u001b[0;32m    169\u001b[0m \u001b[38;5;28mself\u001b[39m\u001b[38;5;241m.\u001b[39m_convergence_mode, \u001b[38;5;28mself\u001b[39m\u001b[38;5;241m.\u001b[39m_convergence_delta \u001b[38;5;241m=\u001b[39m \u001b[38;5;28mself\u001b[39m\u001b[38;5;241m.\u001b[39m_init_convergence(convergence_bound_threshold, convergence_threshold)\n\u001b[0;32m    170\u001b[0m max_facts_time \u001b[38;5;241m=\u001b[39m \u001b[38;5;28mself\u001b[39m\u001b[38;5;241m.\u001b[39m_init_facts(facts_node, facts_edge, \u001b[38;5;28mself\u001b[39m\u001b[38;5;241m.\u001b[39mfacts_to_be_applied_node, \u001b[38;5;28mself\u001b[39m\u001b[38;5;241m.\u001b[39mfacts_to_be_applied_edge, \u001b[38;5;28mself\u001b[39m\u001b[38;5;241m.\u001b[39mfacts_to_be_applied_node_trace, \u001b[38;5;28mself\u001b[39m\u001b[38;5;241m.\u001b[39mfacts_to_be_applied_edge_trace, \u001b[38;5;28mself\u001b[39m\u001b[38;5;241m.\u001b[39matom_trace)\n\u001b[1;32m--> 171\u001b[0m \u001b[38;5;28;43mself\u001b[39;49m\u001b[38;5;241;43m.\u001b[39;49m\u001b[43m_start_fp\u001b[49m\u001b[43m(\u001b[49m\u001b[43mrules\u001b[49m\u001b[43m,\u001b[49m\u001b[43m \u001b[49m\u001b[43mmax_facts_time\u001b[49m\u001b[43m,\u001b[49m\u001b[43m \u001b[49m\u001b[43mverbose\u001b[49m\u001b[43m,\u001b[49m\u001b[43m \u001b[49m\u001b[43magain\u001b[49m\u001b[43m)\u001b[49m\n",
      "File \u001b[1;32mc:\\Users\\zahdehv\\Documents\\GITHUB Media\\pokemon-python\\.venv\\Lib\\site-packages\\pyreason\\scripts\\interpretation\\interpretation.py:199\u001b[0m, in \u001b[0;36mInterpretation._start_fp\u001b[1;34m(self, rules, max_facts_time, verbose, again)\u001b[0m\n\u001b[0;32m    197\u001b[0m \u001b[38;5;28mself\u001b[39m\u001b[38;5;241m.\u001b[39mtime \u001b[38;5;241m=\u001b[39m t \u001b[38;5;241m-\u001b[39m \u001b[38;5;241m1\u001b[39m\n\u001b[0;32m    198\u001b[0m \u001b[38;5;66;03m# If we need to reason again, store the next timestep to start from\u001b[39;00m\n\u001b[1;32m--> 199\u001b[0m \u001b[38;5;28;43mself\u001b[39;49m\u001b[38;5;241;43m.\u001b[39;49m\u001b[43mprev_reasoning_data\u001b[49m\u001b[43m[\u001b[49m\u001b[38;5;241;43m0\u001b[39;49m\u001b[43m]\u001b[49m \u001b[38;5;241m=\u001b[39m t\n\u001b[0;32m    200\u001b[0m \u001b[38;5;28mself\u001b[39m\u001b[38;5;241m.\u001b[39mprev_reasoning_data[\u001b[38;5;241m1\u001b[39m] \u001b[38;5;241m=\u001b[39m fp_cnt\n\u001b[0;32m    201\u001b[0m \u001b[38;5;28;01mif\u001b[39;00m verbose:\n",
      "File \u001b[1;32mc:\\Users\\zahdehv\\Documents\\GITHUB Media\\pokemon-python\\.venv\\Lib\\site-packages\\numba\\typed\\typedlist.py:353\u001b[0m, in \u001b[0;36mList.__setitem__\u001b[1;34m(self, i, item)\u001b[0m\n\u001b[0;32m    350\u001b[0m \u001b[38;5;129m@pt\u001b[39m\u001b[38;5;241m.\u001b[39moverload\n\u001b[0;32m    351\u001b[0m \u001b[38;5;28;01mdef\u001b[39;00m \u001b[38;5;21m__setitem__\u001b[39m(\u001b[38;5;28mself\u001b[39m, s: \u001b[38;5;28mslice\u001b[39m, o: \u001b[38;5;124m'\u001b[39m\u001b[38;5;124mList[T]\u001b[39m\u001b[38;5;124m'\u001b[39m) \u001b[38;5;241m-\u001b[39m\u001b[38;5;241m>\u001b[39m \u001b[38;5;28;01mNone\u001b[39;00m: \u001b[38;5;241m.\u001b[39m\u001b[38;5;241m.\u001b[39m\u001b[38;5;241m.\u001b[39m  \u001b[38;5;66;03m# noqa: F811, E704, E501\u001b[39;00m\n\u001b[1;32m--> 353\u001b[0m \u001b[38;5;28;01mdef\u001b[39;00m \u001b[38;5;21m__setitem__\u001b[39m(\u001b[38;5;28mself\u001b[39m, i: Int_or_Slice, item: T_or_ListT) \u001b[38;5;241m-\u001b[39m\u001b[38;5;241m>\u001b[39m \u001b[38;5;28;01mNone\u001b[39;00m:  \u001b[38;5;66;03m# noqa: F811, E501\u001b[39;00m\n\u001b[0;32m    354\u001b[0m     \u001b[38;5;28;01mif\u001b[39;00m \u001b[38;5;129;01mnot\u001b[39;00m \u001b[38;5;28mself\u001b[39m\u001b[38;5;241m.\u001b[39m_typed:\n\u001b[0;32m    355\u001b[0m         \u001b[38;5;28mself\u001b[39m\u001b[38;5;241m.\u001b[39m_initialise_list(item)\n",
      "\u001b[1;31mKeyboardInterrupt\u001b[0m: "
     ]
    }
   ],
   "source": [
    "results_bdi_vs_base = do_matches(TrainerBDIF(\"BDI\", LESS_SWITCH_RULES), TrainerBase(\"BASE\"))"
   ]
  },
  {
   "cell_type": "code",
   "execution_count": 54,
   "metadata": {},
   "outputs": [
    {
     "name": "stdout",
     "output_type": "stream",
     "text": [
      "Name       Won        Percentage (%)\n",
      "BDI        28         93.33     \n",
      "BASE       2          6.67      \n"
     ]
    }
   ],
   "source": [
    "show_results(results_bdi_vs_base)"
   ]
  },
  {
   "cell_type": "code",
   "execution_count": 65,
   "metadata": {},
   "outputs": [
    {
     "data": {
      "text/plain": [
       "BinomTestResult(k=28, n=30, alternative='greater', statistic=0.9333333333333333, pvalue=0.04417898515199711)"
      ]
     },
     "execution_count": 65,
     "metadata": {},
     "output_type": "execute_result"
    }
   ],
   "source": [
    "binomtest(results_bdi_vs_base.count(\"BDI\"), len(results_bdi_vs_base), p=0.8, alternative='greater')"
   ]
  },
  {
   "cell_type": "markdown",
   "metadata": {},
   "source": [
    "# bdi vs llm"
   ]
  },
  {
   "cell_type": "code",
   "execution_count": 4,
   "metadata": {},
   "outputs": [],
   "source": [
    "inst_old = \"\"\"-In case any rival pokemon is fainted, still select an action, the rival could send another pokemon, in other case,\n",
    "if the battle has finished, the combat will end automatically so you wont be prompted to give any further actions.\n",
    "-The user Will also provide you previous turn decisions and their consequenses can be seen at the next turn state. You are going to account them on your decision so you\n",
    "avoid repeating mistakes or action taken with panic (like switching back and forth).\n",
    "-In case there are provided reasoning steps from yourself, you are going to analize them all, chech the most frequent actions, and make a \n",
    "choice based on that.\n",
    "-You will also consider avoid repeating and chaotic switch actions according to previous turns.\n",
    "When you decide on switch, make sure you won't switch back or make a second switch.\"\"\"\n",
    "\n",
    "inst = \"\"\"\n",
    "- You will make a step by step reasoning, with all available actions, assigning each action a qualification from 'A'(best possible assignation) to 'F'(worst possible assignation).\n",
    "- From the turn historial, you will try to retrieve information about what pokemons has the rival that are not in the field, so when a pokemon faints, you can choose to switch or prepare\n",
    "an attack using that information.\n",
    "- Avoid switching panic (switching between pokemons again and again, use historial to check wether to that current adversary you switched to a specific pokemon, your reasoning took you to\n",
    "select it).\n",
    "- You will reassignate categories based on past turn historial (a switch that ended in a bad outcome would be penalized) [examples below]\n",
    "\n",
    "examples:\n",
    "use thunderbolt (A) thunderbolt is very effective against POKEMON, so it would be a good option\n",
    "switch to pikachu (D) pikachu is effective against rival's pokemon, but current pokemon is equally effective, change doesn't make a difference\n",
    "switch to riolu (B) riolu is equally effective against rival's pokemon, but current pokemon hp is very low, and riolu is on a good state\n",
    "\"\"\""
   ]
  },
  {
   "cell_type": "code",
   "execution_count": 7,
   "metadata": {},
   "outputs": [
    {
     "name": "stdout",
     "output_type": "stream",
     "text": [
      "BATTLE STARTED\n",
      "\n",
      "BDI vs LLM\n",
      "\n",
      "BDI pokemons are:\n",
      "lickilicky\n",
      "crobat\n",
      "palkia\n",
      "granbull\n",
      "cascoon\n",
      "eevee\n",
      "\n",
      "\n",
      "\n",
      "LLM pokemons are:\n",
      "clawitzer\n",
      "snubbull\n",
      "croagunk\n",
      "bidoof\n",
      "wishiwashi\n",
      "lickitung\n",
      "\n",
      "\n",
      "\n",
      "BDI is thinking...\n",
      "LLM is thinking...\n",
      "\n",
      "LLM 's INNER DIALOGUE:\n",
      "Okay, let's analyze the situation and make a decision.\n",
      "\n",
      "**Reasoning:**\n",
      "\n",
      "* **Current Pokemon:** Clawitzer is a strong Water-type, but Lickilicky is Normal-type, making Clawitzer's Water-type moves less effective.\n",
      "* **Opponent's Pokemon:** Lickilicky is a Normal-type, which means it's weak to Fighting-type moves.\n",
      "* **Available Actions:**\n",
      "    * **A - Use Focusblast (Fighting):** This is the best option. Focusblast is a powerful Fighting-type move that will be super effective against Lickilicky. \n",
      "    * **B - Switch to Croagunk (Poison/Fighting):** Croagunk is also a Fighting-type and would be super effective against Lickilicky. However, Focusblast is a stronger move.\n",
      "    * **C - Use U-Turn:** This would allow us to switch out to a more advantageous Pokemon, but we're in a good position to attack with Focusblast.\n",
      "    * **D - Use Sleep Talk:** This is risky as it's random and could potentially use a less effective move.\n",
      "    * **E - Use Double Team:** This would increase our evasion, but it's not as impactful as a strong attack.\n",
      "    * **F - Switch to any other Pokemon:**  These switches are not ideal as they don't exploit Lickilicky's weakness.\n",
      "\n",
      "**Conclusion:**\n",
      "\n",
      "Focusblast is the most strategic move to maximize damage and potentially weaken Lickilicky.\n",
      "\n",
      "**INSTRUCTION: use focusblast** \n",
      "\n",
      "Turn 1:\n",
      "BDI's lickilicky used doubleteam\n",
      "LLM's clawitzer used focusblast\n",
      "End of Turn 1\n",
      "\n"
     ]
    },
    {
     "ename": "KeyboardInterrupt",
     "evalue": "Interrupted by user",
     "output_type": "error",
     "traceback": [
      "\u001b[1;31m---------------------------------------------------------------------------\u001b[0m",
      "\u001b[1;31mKeyboardInterrupt\u001b[0m                         Traceback (most recent call last)",
      "Cell \u001b[1;32mIn[7], line 3\u001b[0m\n\u001b[0;32m      1\u001b[0m bdi \u001b[38;5;241m=\u001b[39m TrainerBDIF(\u001b[38;5;124m\"\u001b[39m\u001b[38;5;124mBDI\u001b[39m\u001b[38;5;124m\"\u001b[39m, LESS_SWITCH_RULES)\n\u001b[0;32m      2\u001b[0m llm \u001b[38;5;241m=\u001b[39m TrainerLLMFeed(\u001b[38;5;124m\"\u001b[39m\u001b[38;5;124mLLM\u001b[39m\u001b[38;5;124m\"\u001b[39m, specific_instructions\u001b[38;5;241m=\u001b[39minst, num_turns\u001b[38;5;241m=\u001b[39m\u001b[38;5;241m23\u001b[39m, talkative\u001b[38;5;241m=\u001b[39m \u001b[38;5;28;01mTrue\u001b[39;00m)\n\u001b[1;32m----> 3\u001b[0m \u001b[43mdo_battle\u001b[49m\u001b[43m(\u001b[49m\u001b[43mbdi\u001b[49m\u001b[43m,\u001b[49m\u001b[43m \u001b[49m\u001b[43mllm\u001b[49m\u001b[43m,\u001b[49m\u001b[43m \u001b[49m\u001b[38;5;28;43;01mTrue\u001b[39;49;00m\u001b[43m)\u001b[49m\n",
      "File \u001b[1;32mc:\\Users\\zahdehv\\Documents\\GITHUB Media\\pokemon-python\\loramon.py:555\u001b[0m, in \u001b[0;36mdo_battle\u001b[1;34m(t1, t2, debug)\u001b[0m\n\u001b[0;32m    553\u001b[0m         \u001b[38;5;28;01mfor\u001b[39;00m log \u001b[38;5;129;01min\u001b[39;00m B\u001b[38;5;241m.\u001b[39mlogs[\u001b[38;5;241m-\u001b[39m\u001b[38;5;241m1\u001b[39m]:\n\u001b[0;32m    554\u001b[0m             \u001b[38;5;28mprint\u001b[39m(log)\n\u001b[1;32m--> 555\u001b[0m         \u001b[38;5;28;01mif\u001b[39;00m pt: \u001b[38;5;28;43minput\u001b[39;49m\u001b[43m(\u001b[49m\u001b[38;5;124;43m\"\u001b[39;49m\u001b[38;5;124;43mpress enter to continue...\u001b[39;49m\u001b[38;5;124;43m\"\u001b[39;49m\u001b[43m)\u001b[49m\n\u001b[0;32m    556\u001b[0m     \u001b[38;5;66;03m# break\u001b[39;00m\n\u001b[0;32m    558\u001b[0m \u001b[38;5;28;01mif\u001b[39;00m B\u001b[38;5;241m.\u001b[39mwinner \u001b[38;5;241m==\u001b[39m \u001b[38;5;124m'\u001b[39m\u001b[38;5;124mp1\u001b[39m\u001b[38;5;124m'\u001b[39m:\n",
      "File \u001b[1;32mc:\\Users\\zahdehv\\Documents\\GITHUB Media\\pokemon-python\\.venv\\Lib\\site-packages\\ipykernel\\kernelbase.py:1282\u001b[0m, in \u001b[0;36mKernel.raw_input\u001b[1;34m(self, prompt)\u001b[0m\n\u001b[0;32m   1280\u001b[0m     msg \u001b[38;5;241m=\u001b[39m \u001b[38;5;124m\"\u001b[39m\u001b[38;5;124mraw_input was called, but this frontend does not support input requests.\u001b[39m\u001b[38;5;124m\"\u001b[39m\n\u001b[0;32m   1281\u001b[0m     \u001b[38;5;28;01mraise\u001b[39;00m StdinNotImplementedError(msg)\n\u001b[1;32m-> 1282\u001b[0m \u001b[38;5;28;01mreturn\u001b[39;00m \u001b[38;5;28;43mself\u001b[39;49m\u001b[38;5;241;43m.\u001b[39;49m\u001b[43m_input_request\u001b[49m\u001b[43m(\u001b[49m\n\u001b[0;32m   1283\u001b[0m \u001b[43m    \u001b[49m\u001b[38;5;28;43mstr\u001b[39;49m\u001b[43m(\u001b[49m\u001b[43mprompt\u001b[49m\u001b[43m)\u001b[49m\u001b[43m,\u001b[49m\n\u001b[0;32m   1284\u001b[0m \u001b[43m    \u001b[49m\u001b[38;5;28;43mself\u001b[39;49m\u001b[38;5;241;43m.\u001b[39;49m\u001b[43m_parent_ident\u001b[49m\u001b[43m[\u001b[49m\u001b[38;5;124;43m\"\u001b[39;49m\u001b[38;5;124;43mshell\u001b[39;49m\u001b[38;5;124;43m\"\u001b[39;49m\u001b[43m]\u001b[49m\u001b[43m,\u001b[49m\n\u001b[0;32m   1285\u001b[0m \u001b[43m    \u001b[49m\u001b[38;5;28;43mself\u001b[39;49m\u001b[38;5;241;43m.\u001b[39;49m\u001b[43mget_parent\u001b[49m\u001b[43m(\u001b[49m\u001b[38;5;124;43m\"\u001b[39;49m\u001b[38;5;124;43mshell\u001b[39;49m\u001b[38;5;124;43m\"\u001b[39;49m\u001b[43m)\u001b[49m\u001b[43m,\u001b[49m\n\u001b[0;32m   1286\u001b[0m \u001b[43m    \u001b[49m\u001b[43mpassword\u001b[49m\u001b[38;5;241;43m=\u001b[39;49m\u001b[38;5;28;43;01mFalse\u001b[39;49;00m\u001b[43m,\u001b[49m\n\u001b[0;32m   1287\u001b[0m \u001b[43m\u001b[49m\u001b[43m)\u001b[49m\n",
      "File \u001b[1;32mc:\\Users\\zahdehv\\Documents\\GITHUB Media\\pokemon-python\\.venv\\Lib\\site-packages\\ipykernel\\kernelbase.py:1325\u001b[0m, in \u001b[0;36mKernel._input_request\u001b[1;34m(self, prompt, ident, parent, password)\u001b[0m\n\u001b[0;32m   1322\u001b[0m \u001b[38;5;28;01mexcept\u001b[39;00m \u001b[38;5;167;01mKeyboardInterrupt\u001b[39;00m:\n\u001b[0;32m   1323\u001b[0m     \u001b[38;5;66;03m# re-raise KeyboardInterrupt, to truncate traceback\u001b[39;00m\n\u001b[0;32m   1324\u001b[0m     msg \u001b[38;5;241m=\u001b[39m \u001b[38;5;124m\"\u001b[39m\u001b[38;5;124mInterrupted by user\u001b[39m\u001b[38;5;124m\"\u001b[39m\n\u001b[1;32m-> 1325\u001b[0m     \u001b[38;5;28;01mraise\u001b[39;00m \u001b[38;5;167;01mKeyboardInterrupt\u001b[39;00m(msg) \u001b[38;5;28;01mfrom\u001b[39;00m \u001b[38;5;28;01mNone\u001b[39;00m\n\u001b[0;32m   1326\u001b[0m \u001b[38;5;28;01mexcept\u001b[39;00m \u001b[38;5;167;01mException\u001b[39;00m:\n\u001b[0;32m   1327\u001b[0m     \u001b[38;5;28mself\u001b[39m\u001b[38;5;241m.\u001b[39mlog\u001b[38;5;241m.\u001b[39mwarning(\u001b[38;5;124m\"\u001b[39m\u001b[38;5;124mInvalid Message:\u001b[39m\u001b[38;5;124m\"\u001b[39m, exc_info\u001b[38;5;241m=\u001b[39m\u001b[38;5;28;01mTrue\u001b[39;00m)\n",
      "\u001b[1;31mKeyboardInterrupt\u001b[0m: Interrupted by user"
     ]
    }
   ],
   "source": [
    "bdi = TrainerBDIF(\"BDI\", LESS_SWITCH_RULES)\n",
    "llm = TrainerLLMFeed(\"LLM\", specific_instructions=inst, num_turns=23, talkative= True)\n",
    "do_battle(bdi, llm, True)"
   ]
  },
  {
   "cell_type": "code",
   "execution_count": 9,
   "metadata": {},
   "outputs": [
    {
     "name": "stdout",
     "output_type": "stream",
     "text": [
      "mtch: 0\n",
      "REASONING FAIL: 429 Resource has been exhausted (e.g. check quota).\n",
      "REASONING FAIL: 429 Resource has been exhausted (e.g. check quota).\n"
     ]
    },
    {
     "ename": "KeyboardInterrupt",
     "evalue": "",
     "output_type": "error",
     "traceback": [
      "\u001b[1;31m---------------------------------------------------------------------------\u001b[0m",
      "\u001b[1;31mResourceExhausted\u001b[0m                         Traceback (most recent call last)",
      "File \u001b[1;32mc:\\Users\\zahdehv\\Documents\\GITHUB Media\\pokemon-python\\loramon.py:381\u001b[0m, in \u001b[0;36mTrainerLLM.choose\u001b[1;34m(self, me, foe)\u001b[0m\n\u001b[0;32m    380\u001b[0m             \u001b[38;5;66;03m# get an answer code\u001b[39;00m\n\u001b[1;32m--> 381\u001b[0m             response \u001b[38;5;241m=\u001b[39m \u001b[38;5;28;43mself\u001b[39;49m\u001b[38;5;241;43m.\u001b[39;49m\u001b[43mmodel\u001b[49m\u001b[38;5;241;43m.\u001b[39;49m\u001b[43mgenerate_content\u001b[49m\u001b[43m(\u001b[49m\n\u001b[0;32m    382\u001b[0m \u001b[43m                \u001b[49m\u001b[43mprompt\u001b[49m\u001b[43m,\u001b[49m\n\u001b[0;32m    383\u001b[0m \u001b[43m                \u001b[49m\u001b[43mgeneration_config\u001b[49m\u001b[38;5;241;43m=\u001b[39;49m\u001b[43mgenai\u001b[49m\u001b[38;5;241;43m.\u001b[39;49m\u001b[43mtypes\u001b[49m\u001b[38;5;241;43m.\u001b[39;49m\u001b[43mGenerationConfig\u001b[49m\u001b[43m(\u001b[49m\n\u001b[0;32m    384\u001b[0m \u001b[43m                    \u001b[49m\u001b[43mcandidate_count\u001b[49m\u001b[38;5;241;43m=\u001b[39;49m\u001b[38;5;241;43m1\u001b[39;49m\u001b[43m,\u001b[49m\n\u001b[0;32m    385\u001b[0m \u001b[43m                    \u001b[49m\u001b[43mmax_output_tokens\u001b[49m\u001b[38;5;241;43m=\u001b[39;49m\u001b[38;5;241;43m1025\u001b[39;49m\u001b[43m,\u001b[49m\n\u001b[0;32m    386\u001b[0m \u001b[43m                    \u001b[49m\u001b[43mtemperature\u001b[49m\u001b[38;5;241;43m=\u001b[39;49m\u001b[38;5;241;43m0.2\u001b[39;49m\u001b[43m,\u001b[49m\n\u001b[0;32m    387\u001b[0m \u001b[43m    \u001b[49m\u001b[43m)\u001b[49m\u001b[43m,\u001b[49m\n\u001b[0;32m    388\u001b[0m \u001b[43m\u001b[49m\u001b[43m)\u001b[49m\u001b[38;5;241m.\u001b[39mtext           \u001b[38;5;66;03m# get plan from nl text\u001b[39;00m\n\u001b[0;32m    389\u001b[0m             \u001b[38;5;28;01mif\u001b[39;00m \u001b[38;5;28mself\u001b[39m\u001b[38;5;241m.\u001b[39mspeak:\n",
      "File \u001b[1;32mc:\\Users\\zahdehv\\Documents\\GITHUB Media\\pokemon-python\\.venv\\Lib\\site-packages\\google\\generativeai\\generative_models.py:331\u001b[0m, in \u001b[0;36mGenerativeModel.generate_content\u001b[1;34m(self, contents, generation_config, safety_settings, stream, tools, tool_config, request_options)\u001b[0m\n\u001b[0;32m    330\u001b[0m \u001b[38;5;28;01melse\u001b[39;00m:\n\u001b[1;32m--> 331\u001b[0m     response \u001b[38;5;241m=\u001b[39m \u001b[38;5;28;43mself\u001b[39;49m\u001b[38;5;241;43m.\u001b[39;49m\u001b[43m_client\u001b[49m\u001b[38;5;241;43m.\u001b[39;49m\u001b[43mgenerate_content\u001b[49m\u001b[43m(\u001b[49m\n\u001b[0;32m    332\u001b[0m \u001b[43m        \u001b[49m\u001b[43mrequest\u001b[49m\u001b[43m,\u001b[49m\n\u001b[0;32m    333\u001b[0m \u001b[43m        \u001b[49m\u001b[38;5;241;43m*\u001b[39;49m\u001b[38;5;241;43m*\u001b[39;49m\u001b[43mrequest_options\u001b[49m\u001b[43m,\u001b[49m\n\u001b[0;32m    334\u001b[0m \u001b[43m    \u001b[49m\u001b[43m)\u001b[49m\n\u001b[0;32m    335\u001b[0m     \u001b[38;5;28;01mreturn\u001b[39;00m generation_types\u001b[38;5;241m.\u001b[39mGenerateContentResponse\u001b[38;5;241m.\u001b[39mfrom_response(response)\n",
      "File \u001b[1;32mc:\\Users\\zahdehv\\Documents\\GITHUB Media\\pokemon-python\\.venv\\Lib\\site-packages\\google\\ai\\generativelanguage_v1beta\\services\\generative_service\\client.py:830\u001b[0m, in \u001b[0;36mGenerativeServiceClient.generate_content\u001b[1;34m(self, request, model, contents, retry, timeout, metadata)\u001b[0m\n\u001b[0;32m    829\u001b[0m \u001b[38;5;66;03m# Send the request.\u001b[39;00m\n\u001b[1;32m--> 830\u001b[0m response \u001b[38;5;241m=\u001b[39m \u001b[43mrpc\u001b[49m\u001b[43m(\u001b[49m\n\u001b[0;32m    831\u001b[0m \u001b[43m    \u001b[49m\u001b[43mrequest\u001b[49m\u001b[43m,\u001b[49m\n\u001b[0;32m    832\u001b[0m \u001b[43m    \u001b[49m\u001b[43mretry\u001b[49m\u001b[38;5;241;43m=\u001b[39;49m\u001b[43mretry\u001b[49m\u001b[43m,\u001b[49m\n\u001b[0;32m    833\u001b[0m \u001b[43m    \u001b[49m\u001b[43mtimeout\u001b[49m\u001b[38;5;241;43m=\u001b[39;49m\u001b[43mtimeout\u001b[49m\u001b[43m,\u001b[49m\n\u001b[0;32m    834\u001b[0m \u001b[43m    \u001b[49m\u001b[43mmetadata\u001b[49m\u001b[38;5;241;43m=\u001b[39;49m\u001b[43mmetadata\u001b[49m\u001b[43m,\u001b[49m\n\u001b[0;32m    835\u001b[0m \u001b[43m\u001b[49m\u001b[43m)\u001b[49m\n\u001b[0;32m    837\u001b[0m \u001b[38;5;66;03m# Done; return the response.\u001b[39;00m\n",
      "File \u001b[1;32mc:\\Users\\zahdehv\\Documents\\GITHUB Media\\pokemon-python\\.venv\\Lib\\site-packages\\google\\api_core\\gapic_v1\\method.py:131\u001b[0m, in \u001b[0;36m_GapicCallable.__call__\u001b[1;34m(self, timeout, retry, compression, *args, **kwargs)\u001b[0m\n\u001b[0;32m    129\u001b[0m     kwargs[\u001b[38;5;124m\"\u001b[39m\u001b[38;5;124mcompression\u001b[39m\u001b[38;5;124m\"\u001b[39m] \u001b[38;5;241m=\u001b[39m compression\n\u001b[1;32m--> 131\u001b[0m \u001b[38;5;28;01mreturn\u001b[39;00m \u001b[43mwrapped_func\u001b[49m\u001b[43m(\u001b[49m\u001b[38;5;241;43m*\u001b[39;49m\u001b[43margs\u001b[49m\u001b[43m,\u001b[49m\u001b[43m \u001b[49m\u001b[38;5;241;43m*\u001b[39;49m\u001b[38;5;241;43m*\u001b[39;49m\u001b[43mkwargs\u001b[49m\u001b[43m)\u001b[49m\n",
      "File \u001b[1;32mc:\\Users\\zahdehv\\Documents\\GITHUB Media\\pokemon-python\\.venv\\Lib\\site-packages\\google\\api_core\\retry\\retry_unary.py:293\u001b[0m, in \u001b[0;36mRetry.__call__.<locals>.retry_wrapped_func\u001b[1;34m(*args, **kwargs)\u001b[0m\n\u001b[0;32m    290\u001b[0m sleep_generator \u001b[38;5;241m=\u001b[39m exponential_sleep_generator(\n\u001b[0;32m    291\u001b[0m     \u001b[38;5;28mself\u001b[39m\u001b[38;5;241m.\u001b[39m_initial, \u001b[38;5;28mself\u001b[39m\u001b[38;5;241m.\u001b[39m_maximum, multiplier\u001b[38;5;241m=\u001b[39m\u001b[38;5;28mself\u001b[39m\u001b[38;5;241m.\u001b[39m_multiplier\n\u001b[0;32m    292\u001b[0m )\n\u001b[1;32m--> 293\u001b[0m \u001b[38;5;28;01mreturn\u001b[39;00m \u001b[43mretry_target\u001b[49m\u001b[43m(\u001b[49m\n\u001b[0;32m    294\u001b[0m \u001b[43m    \u001b[49m\u001b[43mtarget\u001b[49m\u001b[43m,\u001b[49m\n\u001b[0;32m    295\u001b[0m \u001b[43m    \u001b[49m\u001b[38;5;28;43mself\u001b[39;49m\u001b[38;5;241;43m.\u001b[39;49m\u001b[43m_predicate\u001b[49m\u001b[43m,\u001b[49m\n\u001b[0;32m    296\u001b[0m \u001b[43m    \u001b[49m\u001b[43msleep_generator\u001b[49m\u001b[43m,\u001b[49m\n\u001b[0;32m    297\u001b[0m \u001b[43m    \u001b[49m\u001b[43mtimeout\u001b[49m\u001b[38;5;241;43m=\u001b[39;49m\u001b[38;5;28;43mself\u001b[39;49m\u001b[38;5;241;43m.\u001b[39;49m\u001b[43m_timeout\u001b[49m\u001b[43m,\u001b[49m\n\u001b[0;32m    298\u001b[0m \u001b[43m    \u001b[49m\u001b[43mon_error\u001b[49m\u001b[38;5;241;43m=\u001b[39;49m\u001b[43mon_error\u001b[49m\u001b[43m,\u001b[49m\n\u001b[0;32m    299\u001b[0m \u001b[43m\u001b[49m\u001b[43m)\u001b[49m\n",
      "File \u001b[1;32mc:\\Users\\zahdehv\\Documents\\GITHUB Media\\pokemon-python\\.venv\\Lib\\site-packages\\google\\api_core\\retry\\retry_unary.py:153\u001b[0m, in \u001b[0;36mretry_target\u001b[1;34m(target, predicate, sleep_generator, timeout, on_error, exception_factory, **kwargs)\u001b[0m\n\u001b[0;32m    151\u001b[0m \u001b[38;5;28;01mexcept\u001b[39;00m \u001b[38;5;167;01mException\u001b[39;00m \u001b[38;5;28;01mas\u001b[39;00m exc:\n\u001b[0;32m    152\u001b[0m     \u001b[38;5;66;03m# defer to shared logic for handling errors\u001b[39;00m\n\u001b[1;32m--> 153\u001b[0m     \u001b[43m_retry_error_helper\u001b[49m\u001b[43m(\u001b[49m\n\u001b[0;32m    154\u001b[0m \u001b[43m        \u001b[49m\u001b[43mexc\u001b[49m\u001b[43m,\u001b[49m\n\u001b[0;32m    155\u001b[0m \u001b[43m        \u001b[49m\u001b[43mdeadline\u001b[49m\u001b[43m,\u001b[49m\n\u001b[0;32m    156\u001b[0m \u001b[43m        \u001b[49m\u001b[43msleep\u001b[49m\u001b[43m,\u001b[49m\n\u001b[0;32m    157\u001b[0m \u001b[43m        \u001b[49m\u001b[43merror_list\u001b[49m\u001b[43m,\u001b[49m\n\u001b[0;32m    158\u001b[0m \u001b[43m        \u001b[49m\u001b[43mpredicate\u001b[49m\u001b[43m,\u001b[49m\n\u001b[0;32m    159\u001b[0m \u001b[43m        \u001b[49m\u001b[43mon_error\u001b[49m\u001b[43m,\u001b[49m\n\u001b[0;32m    160\u001b[0m \u001b[43m        \u001b[49m\u001b[43mexception_factory\u001b[49m\u001b[43m,\u001b[49m\n\u001b[0;32m    161\u001b[0m \u001b[43m        \u001b[49m\u001b[43mtimeout\u001b[49m\u001b[43m,\u001b[49m\n\u001b[0;32m    162\u001b[0m \u001b[43m    \u001b[49m\u001b[43m)\u001b[49m\n\u001b[0;32m    163\u001b[0m     \u001b[38;5;66;03m# if exception not raised, sleep before next attempt\u001b[39;00m\n",
      "File \u001b[1;32mc:\\Users\\zahdehv\\Documents\\GITHUB Media\\pokemon-python\\.venv\\Lib\\site-packages\\google\\api_core\\retry\\retry_base.py:212\u001b[0m, in \u001b[0;36m_retry_error_helper\u001b[1;34m(exc, deadline, next_sleep, error_list, predicate_fn, on_error_fn, exc_factory_fn, original_timeout)\u001b[0m\n\u001b[0;32m    207\u001b[0m     final_exc, source_exc \u001b[38;5;241m=\u001b[39m exc_factory_fn(\n\u001b[0;32m    208\u001b[0m         error_list,\n\u001b[0;32m    209\u001b[0m         RetryFailureReason\u001b[38;5;241m.\u001b[39mNON_RETRYABLE_ERROR,\n\u001b[0;32m    210\u001b[0m         original_timeout,\n\u001b[0;32m    211\u001b[0m     )\n\u001b[1;32m--> 212\u001b[0m     \u001b[38;5;28;01mraise\u001b[39;00m final_exc \u001b[38;5;28;01mfrom\u001b[39;00m \u001b[38;5;21;01msource_exc\u001b[39;00m\n\u001b[0;32m    213\u001b[0m \u001b[38;5;28;01mif\u001b[39;00m on_error_fn \u001b[38;5;129;01mis\u001b[39;00m \u001b[38;5;129;01mnot\u001b[39;00m \u001b[38;5;28;01mNone\u001b[39;00m:\n",
      "File \u001b[1;32mc:\\Users\\zahdehv\\Documents\\GITHUB Media\\pokemon-python\\.venv\\Lib\\site-packages\\google\\api_core\\retry\\retry_unary.py:144\u001b[0m, in \u001b[0;36mretry_target\u001b[1;34m(target, predicate, sleep_generator, timeout, on_error, exception_factory, **kwargs)\u001b[0m\n\u001b[0;32m    143\u001b[0m \u001b[38;5;28;01mtry\u001b[39;00m:\n\u001b[1;32m--> 144\u001b[0m     result \u001b[38;5;241m=\u001b[39m \u001b[43mtarget\u001b[49m\u001b[43m(\u001b[49m\u001b[43m)\u001b[49m\n\u001b[0;32m    145\u001b[0m     \u001b[38;5;28;01mif\u001b[39;00m inspect\u001b[38;5;241m.\u001b[39misawaitable(result):\n",
      "File \u001b[1;32mc:\\Users\\zahdehv\\Documents\\GITHUB Media\\pokemon-python\\.venv\\Lib\\site-packages\\google\\api_core\\timeout.py:120\u001b[0m, in \u001b[0;36mTimeToDeadlineTimeout.__call__.<locals>.func_with_timeout\u001b[1;34m(*args, **kwargs)\u001b[0m\n\u001b[0;32m    118\u001b[0m     kwargs[\u001b[38;5;124m\"\u001b[39m\u001b[38;5;124mtimeout\u001b[39m\u001b[38;5;124m\"\u001b[39m] \u001b[38;5;241m=\u001b[39m \u001b[38;5;28mmax\u001b[39m(\u001b[38;5;241m0\u001b[39m, \u001b[38;5;28mself\u001b[39m\u001b[38;5;241m.\u001b[39m_timeout \u001b[38;5;241m-\u001b[39m time_since_first_attempt)\n\u001b[1;32m--> 120\u001b[0m \u001b[38;5;28;01mreturn\u001b[39;00m \u001b[43mfunc\u001b[49m\u001b[43m(\u001b[49m\u001b[38;5;241;43m*\u001b[39;49m\u001b[43margs\u001b[49m\u001b[43m,\u001b[49m\u001b[43m \u001b[49m\u001b[38;5;241;43m*\u001b[39;49m\u001b[38;5;241;43m*\u001b[39;49m\u001b[43mkwargs\u001b[49m\u001b[43m)\u001b[49m\n",
      "File \u001b[1;32mc:\\Users\\zahdehv\\Documents\\GITHUB Media\\pokemon-python\\.venv\\Lib\\site-packages\\google\\api_core\\grpc_helpers.py:78\u001b[0m, in \u001b[0;36m_wrap_unary_errors.<locals>.error_remapped_callable\u001b[1;34m(*args, **kwargs)\u001b[0m\n\u001b[0;32m     77\u001b[0m \u001b[38;5;28;01mexcept\u001b[39;00m grpc\u001b[38;5;241m.\u001b[39mRpcError \u001b[38;5;28;01mas\u001b[39;00m exc:\n\u001b[1;32m---> 78\u001b[0m     \u001b[38;5;28;01mraise\u001b[39;00m exceptions\u001b[38;5;241m.\u001b[39mfrom_grpc_error(exc) \u001b[38;5;28;01mfrom\u001b[39;00m \u001b[38;5;21;01mexc\u001b[39;00m\n",
      "\u001b[1;31mResourceExhausted\u001b[0m: 429 Resource has been exhausted (e.g. check quota).",
      "\nDuring handling of the above exception, another exception occurred:\n",
      "\u001b[1;31mKeyboardInterrupt\u001b[0m                         Traceback (most recent call last)",
      "Cell \u001b[1;32mIn[9], line 1\u001b[0m\n\u001b[1;32m----> 1\u001b[0m results_bdi_vs_llm \u001b[38;5;241m=\u001b[39m \u001b[43mdo_matches\u001b[49m\u001b[43m(\u001b[49m\u001b[43mTrainerBDIF\u001b[49m\u001b[43m(\u001b[49m\u001b[38;5;124;43m\"\u001b[39;49m\u001b[38;5;124;43mBDI\u001b[39;49m\u001b[38;5;124;43m\"\u001b[39;49m\u001b[43m,\u001b[49m\u001b[43m \u001b[49m\u001b[43mLESS_SWITCH_RULES\u001b[49m\u001b[43m)\u001b[49m\u001b[43m,\u001b[49m\u001b[43m \u001b[49m\u001b[43mTrainerLLM\u001b[49m\u001b[43m(\u001b[49m\u001b[38;5;124;43m\"\u001b[39;49m\u001b[38;5;124;43mLLM\u001b[39;49m\u001b[38;5;124;43m\"\u001b[39;49m\u001b[43m,\u001b[49m\u001b[43m \u001b[49m\u001b[43mspecific_instructions\u001b[49m\u001b[38;5;241;43m=\u001b[39;49m\u001b[43minst\u001b[49m\u001b[43m)\u001b[49m\u001b[43m)\u001b[49m\n",
      "Cell \u001b[1;32mIn[3], line 14\u001b[0m, in \u001b[0;36mdo_matches\u001b[1;34m(p1, p2, debug)\u001b[0m\n\u001b[0;32m     12\u001b[0m p1\u001b[38;5;241m.\u001b[39mteam \u001b[38;5;241m=\u001b[39m mtch[\u001b[38;5;241m0\u001b[39m]\n\u001b[0;32m     13\u001b[0m p2\u001b[38;5;241m.\u001b[39mteam \u001b[38;5;241m=\u001b[39m mtch[\u001b[38;5;241m1\u001b[39m]\n\u001b[1;32m---> 14\u001b[0m _, winner \u001b[38;5;241m=\u001b[39m \u001b[43mdo_battle\u001b[49m\u001b[43m(\u001b[49m\u001b[43mp1\u001b[49m\u001b[43m,\u001b[49m\u001b[43m \u001b[49m\u001b[43mp2\u001b[49m\u001b[43m,\u001b[49m\u001b[43m \u001b[49m\u001b[43mdebug\u001b[49m\u001b[38;5;241;43m=\u001b[39;49m\u001b[43mdebug\u001b[49m\u001b[43m)\u001b[49m\n\u001b[0;32m     16\u001b[0m \u001b[38;5;28;01mif\u001b[39;00m winner:\n\u001b[0;32m     17\u001b[0m     victor\u001b[38;5;241m.\u001b[39mappend(winner\u001b[38;5;241m.\u001b[39mname)\n",
      "File \u001b[1;32mc:\\Users\\zahdehv\\Documents\\GITHUB Media\\pokemon-python\\loramon.py:548\u001b[0m, in \u001b[0;36mdo_battle\u001b[1;34m(t1, t2, debug)\u001b[0m\n\u001b[0;32m    546\u001b[0m     \u001b[38;5;28mprint\u001b[39m(t2\u001b[38;5;241m.\u001b[39mname,\u001b[38;5;124m'\u001b[39m\u001b[38;5;124mis thinking...\u001b[39m\u001b[38;5;124m'\u001b[39m)\n\u001b[0;32m    547\u001b[0m     \u001b[38;5;28mprint\u001b[39m()\n\u001b[1;32m--> 548\u001b[0m B\u001b[38;5;241m.\u001b[39mp2\u001b[38;5;241m.\u001b[39mchoice \u001b[38;5;241m=\u001b[39m \u001b[43mt2\u001b[49m\u001b[38;5;241;43m.\u001b[39;49m\u001b[43mchoose\u001b[49m\u001b[43m(\u001b[49m\u001b[43mB\u001b[49m\u001b[38;5;241;43m.\u001b[39;49m\u001b[43mp2\u001b[49m\u001b[43m,\u001b[49m\u001b[43m \u001b[49m\u001b[43mB\u001b[49m\u001b[38;5;241;43m.\u001b[39;49m\u001b[43mp1\u001b[49m\u001b[43m)\u001b[49m\n\u001b[0;32m    550\u001b[0m \u001b[38;5;66;03m# do a turn\u001b[39;00m\n\u001b[0;32m    551\u001b[0m sim\u001b[38;5;241m.\u001b[39mdo_turn(B)\n",
      "File \u001b[1;32mc:\\Users\\zahdehv\\Documents\\GITHUB Media\\pokemon-python\\loramon.py:405\u001b[0m, in \u001b[0;36mTrainerLLM.choose\u001b[1;34m(self, me, foe)\u001b[0m\n\u001b[0;32m    403\u001b[0m \u001b[38;5;28mprint\u001b[39m(\u001b[38;5;124m\"\u001b[39m\u001b[38;5;124mREASONING FAIL:\u001b[39m\u001b[38;5;124m\"\u001b[39m, e)\n\u001b[0;32m    404\u001b[0m tm_exp \u001b[38;5;241m=\u001b[39m \u001b[38;5;241m2\u001b[39m\u001b[38;5;241m*\u001b[39m\u001b[38;5;241m*\u001b[39mnum_tries\n\u001b[1;32m--> 405\u001b[0m time\u001b[38;5;241m.\u001b[39msleep(tm_exp)\n",
      "\u001b[1;31mKeyboardInterrupt\u001b[0m: "
     ]
    }
   ],
   "source": [
    "results_bdi_vs_llm = do_matches(TrainerBDIF(\"BDI\", LESS_SWITCH_RULES), TrainerLLMFeed(\"LLM\", specific_instructions=inst, num_turns=23))"
   ]
  },
  {
   "cell_type": "code",
   "execution_count": 64,
   "metadata": {},
   "outputs": [
    {
     "ename": "NameError",
     "evalue": "name 'results_bdi_vs_llm' is not defined",
     "output_type": "error",
     "traceback": [
      "\u001b[1;31m---------------------------------------------------------------------------\u001b[0m",
      "\u001b[1;31mNameError\u001b[0m                                 Traceback (most recent call last)",
      "Cell \u001b[1;32mIn[64], line 1\u001b[0m\n\u001b[1;32m----> 1\u001b[0m show_results(\u001b[43mresults_bdi_vs_llm\u001b[49m)\n",
      "\u001b[1;31mNameError\u001b[0m: name 'results_bdi_vs_llm' is not defined"
     ]
    }
   ],
   "source": [
    "show_results(results_bdi_vs_llm)"
   ]
  },
  {
   "cell_type": "code",
   "execution_count": null,
   "metadata": {},
   "outputs": [],
   "source": [
    "binomtest(results_bdi_vs_llm.count(\"BDI\"), len(results_bdi_vs_llm), p=0.5, alternative='greater')"
   ]
  }
 ],
 "metadata": {
  "kernelspec": {
   "display_name": ".venv",
   "language": "python",
   "name": "python3"
  },
  "language_info": {
   "codemirror_mode": {
    "name": "ipython",
    "version": 3
   },
   "file_extension": ".py",
   "mimetype": "text/x-python",
   "name": "python",
   "nbconvert_exporter": "python",
   "pygments_lexer": "ipython3",
   "version": "3.11.2"
  }
 },
 "nbformat": 4,
 "nbformat_minor": 2
}
