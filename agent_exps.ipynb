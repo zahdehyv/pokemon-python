{
 "cells": [
  {
   "cell_type": "markdown",
   "metadata": {},
   "source": [
    "# loading data and creating methods"
   ]
  },
  {
   "cell_type": "code",
   "execution_count": 6,
   "metadata": {},
   "outputs": [],
   "source": [
    "import pyreason as pr\n",
    "from loramon import TrainerBase, TrainerBDIF, do_battle, TrainerLLMFeed, TrainerLLMFeedSC, TrainerLLM\n",
    "from tools.pick_six import agent_create_team\n",
    "from itertools import permutations, combinations\n",
    "from sim.sim import dict_to_team_set\n",
    "import google.generativeai as genai\n",
    "from collections import Counter\n",
    "from scipy.stats import binomtest\n",
    "import os\n",
    "\n",
    "os.environ[\"API_KEY\"] = open(\"api_key.txt\").read()\n",
    "genai.configure(api_key=os.environ[\"API_KEY\"])"
   ]
  },
  {
   "cell_type": "code",
   "execution_count": 12,
   "metadata": {},
   "outputs": [],
   "source": [
    "def do_matches(p1: TrainerBase,p2: TrainerBase, debug = False, n = 6):\n",
    "    teams = []\n",
    "    for _ in range(n):\n",
    "        teams.append(dict_to_team_set(agent_create_team()))\n",
    "    matches = list(permutations(teams, 2))\n",
    "\n",
    "    victor = []\n",
    "\n",
    "    for i, mtch in enumerate(matches):\n",
    "        print(\"mtch:\", i) #, mtch)\n",
    "        p1.team = mtch[0]\n",
    "        p2.team = mtch[1]\n",
    "        try:\n",
    "            _, winner = do_battle(p1, p2, debug=debug)\n",
    "\n",
    "            if winner:\n",
    "                victor.append(winner.name)\n",
    "                \n",
    "        except Exception as e:\n",
    "            print(\"battle failed:\", e)\n",
    "    return victor\n",
    "\n",
    "\n",
    "def show_results(names):\n",
    "\n",
    "    frequency = Counter(names)\n",
    "    total_count = len(names)\n",
    "\n",
    "    percentage = {name: (count / total_count) * 100 for name, count in frequency.items()}\n",
    "\n",
    "    table = []\n",
    "    table.append([\"Name\", \"Won\", \"Percentage (%)\"])\n",
    "    for name in frequency:\n",
    "        table.append([name, frequency[name], round(percentage[name], 2)])\n",
    "\n",
    "    for row in table:\n",
    "        print(\"{:<10} {:<10} {:<10}\".format(*row))\n"
   ]
  },
  {
   "cell_type": "code",
   "execution_count": 13,
   "metadata": {},
   "outputs": [],
   "source": [
    "BASELINE_RULES=[\n",
    "    # reglas para la relevancia de deseos\n",
    "    pr.Rule('desire_h(A,B) <-0 desire_hh(A,B)', 'desire_h_1'),\n",
    "    pr.Rule('desire_m(A,B) <-0 desire_h(A,B)', 'desire_h_2'),\n",
    "    pr.Rule('desire_l(A,B) <-0 desire_m(A,B)', 'desire_h_3'),\n",
    "    pr.Rule('desire_ll(A,B) <-0 desire_l(A,B)', 'desire_h_4'),\n",
    "    pr.Rule('desire_m(switch,P) <-0 is_switch(switch), is_foe(P, F), on_field_against(C, F), fainted(C)', 'switch_f'),\n",
    "    \n",
    "    # reglas para la seleccion de atacar segun efectividad\n",
    "    pr.Rule('desire_l(move,M) <-0 has_move(P,M), on_field_against(P, F), is_use(move), move_type(M, MT), pokemon_type(F, FT) , effectiveness(MT,FT):[0.2,1.0]', 'move1'),\n",
    "    pr.Rule('desire_m(move,M) <-0 has_move(P,M), on_field_against(P, F), is_use(move), move_type(M, MT), pokemon_type(F, FT) , effectiveness(MT,FT):[0.4,1.0]', 'move2'),\n",
    "    pr.Rule('desire_hh(move,M) <-0 has_move(P,M), on_field_against(P, F), is_use(move), move_type(M, MT), pokemon_type(F, FT) , effectiveness(MT,FT):[0.8,1.0]', 'move3'),\n",
    "\n",
    "    # reglas para el switcheo a un pokemon con mayor ventaja\n",
    "    pr.Rule('desire_ll(switch,P) <-0 is_foe(P, F), is_switch(switch), has_move(P, M), move_type(M, MT), pokemon_type(F, FT), effectiveness(MT,FT):[0.2,1.0]', 'switch1'),\n",
    "    pr.Rule('desire_l(switch,P) <-0 is_foe(P, F), is_switch(switch), has_move(P, M), move_type(M, MT), pokemon_type(F, FT), effectiveness(MT,FT):[0.4,1.0]', 'switch2'),\n",
    "    pr.Rule('desire_m(switch,P) <-0 is_foe(P, F), is_switch(switch), has_move(P, M), move_type(M, MT), pokemon_type(F, FT), effectiveness(MT,FT):[0.8,1.0]', 'switch3'),\n",
    "]\n",
    "LESS_SWITCH_RULES=[\n",
    "    # reglas para la relevancia de deseos\n",
    "    pr.Rule('desire_h(A,B) <-0 desire_hh(A,B)', 'desire_h_1'),\n",
    "    pr.Rule('desire_m(A,B) <-0 desire_h(A,B)', 'desire_h_2'),\n",
    "    pr.Rule('desire_l(A,B) <-0 desire_m(A,B)', 'desire_h_3'),\n",
    "    pr.Rule('desire_ll(A,B) <-0 desire_l(A,B)', 'desire_h_4'),\n",
    "    pr.Rule('desire_ll(switch,P) <-0 is_switch(switch), is_foe(P, F), on_field_against(C, F), fainted(C)', 'switch_f'),\n",
    "    \n",
    "    # reglas para la seleccion de atacar segun efectividad\n",
    "    pr.Rule('desire_ll(move,M) <-0 has_move(P,M), on_field_against(P, F), is_use(move), move_type(M, MT), pokemon_type(F, FT) , effectiveness(MT,FT):[0.0,1.0]', 'move1'),\n",
    "    pr.Rule('desire_l(move,M) <-0 has_move(P,M), on_field_against(P, F), is_use(move), move_type(M, MT), pokemon_type(F, FT) , effectiveness(MT,FT):[0.2,1.0]', 'move1'),\n",
    "    pr.Rule('desire_m(move,M) <-0 has_move(P,M), on_field_against(P, F), is_use(move), move_type(M, MT), pokemon_type(F, FT) , effectiveness(MT,FT):[0.4,1.0]', 'move2'),\n",
    "    pr.Rule('desire_hh(move,M) <-0 has_move(P,M), on_field_against(P, F), is_use(move), move_type(M, MT), pokemon_type(F, FT) , effectiveness(MT,FT):[0.8,1.0]', 'move3'),\n",
    "\n",
    "    # reglas para el switcheo a un pokemon con mayor ventaja\n",
    "    pr.Rule('desire_ll(switch,P) <-0 is_foe(P, F), is_switch(switch), has_move(P, M), move_type(M, MT), pokemon_type(F, FT), effectiveness(MT,FT):[0.4,1.0]', 'switch2'),\n",
    "    pr.Rule('desire_l(switch,P) <-0 is_foe(P, F), is_switch(switch), has_move(P, M), move_type(M, MT), pokemon_type(F, FT), effectiveness(MT,FT):[0.8,1.0]', 'switch3'),\n",
    "]\n",
    "NO_SWITCH_RULES=[\n",
    "    # reglas para la relevancia de deseos\n",
    "    pr.Rule('desire_h(A,B) <-0 desire_hh(A,B)', 'desire_h_1'),\n",
    "    pr.Rule('desire_m(A,B) <-0 desire_h(A,B)', 'desire_h_2'),\n",
    "    pr.Rule('desire_l(A,B) <-0 desire_m(A,B)', 'desire_h_3'),\n",
    "    pr.Rule('desire_ll(A,B) <-0 desire_l(A,B)', 'desire_h_4'),\n",
    "    pr.Rule('desire_m(switch,P) <-0 is_switch(switch), is_foe(P, F), on_field_against(C, F), fainted(C)', 'switch_f'),\n",
    "    \n",
    "    # reglas para la seleccion de atacar segun efectividad\n",
    "    pr.Rule('desire_ll(move,M) <-0 has_move(P,M), on_field_against(P, F), is_use(move), move_type(M, MT), pokemon_type(F, FT) , effectiveness(MT,FT):[0.0,1.0]', 'move1'),\n",
    "    pr.Rule('desire_l(move,M) <-0 has_move(P,M), on_field_against(P, F), is_use(move), move_type(M, MT), pokemon_type(F, FT) , effectiveness(MT,FT):[0.2,1.0]', 'move1'),\n",
    "    pr.Rule('desire_m(move,M) <-0 has_move(P,M), on_field_against(P, F), is_use(move), move_type(M, MT), pokemon_type(F, FT) , effectiveness(MT,FT):[0.4,1.0]', 'move2'),\n",
    "    pr.Rule('desire_hh(move,M) <-0 has_move(P,M), on_field_against(P, F), is_use(move), move_type(M, MT), pokemon_type(F, FT) , effectiveness(MT,FT):[0.8,1.0]', 'move3'),\n",
    "    \n",
    "]"
   ]
  },
  {
   "cell_type": "markdown",
   "metadata": {},
   "source": [
    "# tournament"
   ]
  },
  {
   "cell_type": "code",
   "execution_count": 14,
   "metadata": {},
   "outputs": [],
   "source": [
    "cases = {\"BASELINE\": BASELINE_RULES,\n",
    "\"LESS_SWITCH\": LESS_SWITCH_RULES,\n",
    "\"NO_SWITCH\": NO_SWITCH_RULES}"
   ]
  },
  {
   "cell_type": "code",
   "execution_count": 15,
   "metadata": {},
   "outputs": [
    {
     "name": "stdout",
     "output_type": "stream",
     "text": [
      "match BASELINE vs LESS_SWITCH\n",
      "mtch: 0\n",
      "mtch: 1\n",
      "mtch: 2\n",
      "mtch: 3\n",
      "mtch: 4\n",
      "mtch: 5\n",
      "mtch: 6\n",
      "mtch: 7\n",
      "mtch: 8\n",
      "mtch: 9\n",
      "mtch: 10\n",
      "mtch: 11\n",
      "mtch: 12\n",
      "mtch: 13\n",
      "mtch: 14\n",
      "mtch: 15\n",
      "mtch: 16\n",
      "mtch: 17\n",
      "mtch: 18\n",
      "mtch: 19\n",
      "mtch: 20\n",
      "mtch: 21\n",
      "mtch: 22\n",
      "mtch: 23\n",
      "mtch: 24\n",
      "mtch: 25\n",
      "mtch: 26\n",
      "mtch: 27\n",
      "mtch: 28\n",
      "mtch: 29\n",
      "Name       Won        Percentage (%)\n",
      "BASELINE   16         53.33     \n",
      "LESS_SWITCH 14         46.67     \n",
      "\n",
      "match BASELINE vs NO_SWITCH\n",
      "mtch: 0\n",
      "mtch: 1\n",
      "mtch: 2\n",
      "mtch: 3\n",
      "mtch: 4\n",
      "mtch: 5\n",
      "mtch: 6\n",
      "mtch: 7\n",
      "mtch: 8\n",
      "mtch: 9\n",
      "mtch: 10\n",
      "mtch: 11\n",
      "mtch: 12\n",
      "mtch: 13\n",
      "mtch: 14\n",
      "mtch: 15\n",
      "mtch: 16\n",
      "mtch: 17\n",
      "mtch: 18\n",
      "mtch: 19\n",
      "mtch: 20\n",
      "mtch: 21\n",
      "mtch: 22\n",
      "mtch: 23\n",
      "mtch: 24\n",
      "mtch: 25\n",
      "mtch: 26\n",
      "mtch: 27\n",
      "mtch: 28\n",
      "mtch: 29\n",
      "Name       Won        Percentage (%)\n",
      "NO_SWITCH  15         50.0      \n",
      "BASELINE   15         50.0      \n",
      "\n",
      "match LESS_SWITCH vs NO_SWITCH\n",
      "mtch: 0\n",
      "mtch: 1\n",
      "mtch: 2\n",
      "mtch: 3\n",
      "mtch: 4\n",
      "mtch: 5\n",
      "mtch: 6\n",
      "mtch: 7\n",
      "mtch: 8\n",
      "mtch: 9\n",
      "mtch: 10\n",
      "mtch: 11\n",
      "mtch: 12\n",
      "mtch: 13\n",
      "mtch: 14\n",
      "mtch: 15\n",
      "mtch: 16\n",
      "mtch: 17\n",
      "mtch: 18\n",
      "mtch: 19\n",
      "mtch: 20\n",
      "mtch: 21\n",
      "mtch: 22\n",
      "mtch: 23\n",
      "mtch: 24\n",
      "mtch: 25\n",
      "mtch: 26\n",
      "mtch: 27\n",
      "mtch: 28\n",
      "mtch: 29\n",
      "Name       Won        Percentage (%)\n",
      "LESS_SWITCH 14         46.67     \n",
      "NO_SWITCH  16         53.33     \n",
      "\n"
     ]
    }
   ],
   "source": [
    "for cmb in combinations(cases, 2):\n",
    "    key1 = cmb[0]\n",
    "    key2 = cmb[1]\n",
    "    print(\"match\", key1, \"vs\", key2)\n",
    "    player1 = TrainerBDIF(key1, cases[key1])\n",
    "    player2 = TrainerBDIF(key2, cases[key2])\n",
    "    result = do_matches(player1, player2)\n",
    "    show_results(result)\n",
    "    print()"
   ]
  },
  {
   "cell_type": "markdown",
   "metadata": {},
   "source": [
    "## MISC"
   ]
  },
  {
   "cell_type": "code",
   "execution_count": 54,
   "metadata": {},
   "outputs": [
    {
     "name": "stdout",
     "output_type": "stream",
     "text": [
      "Name       Won        Percentage (%)\n",
      "BDI        28         93.33     \n",
      "BASE       2          6.67      \n"
     ]
    }
   ],
   "source": [
    "show_results(results_bdi_vs_base)"
   ]
  },
  {
   "cell_type": "code",
   "execution_count": 65,
   "metadata": {},
   "outputs": [
    {
     "data": {
      "text/plain": [
       "BinomTestResult(k=28, n=30, alternative='greater', statistic=0.9333333333333333, pvalue=0.04417898515199711)"
      ]
     },
     "execution_count": 65,
     "metadata": {},
     "output_type": "execute_result"
    }
   ],
   "source": [
    "binomtest(results_bdi_vs_base.count(\"BDI\"), len(results_bdi_vs_base), p=0.8, alternative='greater')"
   ]
  },
  {
   "cell_type": "markdown",
   "metadata": {},
   "source": [
    "# bdi vs llm"
   ]
  },
  {
   "cell_type": "code",
   "execution_count": 5,
   "metadata": {},
   "outputs": [],
   "source": [
    "inst_old = \"\"\"-In case any rival pokemon is fainted, still select an action, the rival could send another pokemon, in other case,\n",
    "if the battle has finished, the combat will end automatically so you wont be prompted to give any further actions.\n",
    "-The user Will also provide you previous turn decisions and their consequenses can be seen at the next turn state. You are going to account them on your decision so you\n",
    "avoid repeating mistakes or action taken with panic (like switching back and forth).\n",
    "-In case there are provided reasoning steps from yourself, you are going to analize them all, chech the most frequent actions, and make a \n",
    "choice based on that.\n",
    "-You will also consider avoid repeating and chaotic switch actions according to previous turns.\n",
    "When you decide on switch, make sure you won't switch back or make a second switch.\"\"\"\n",
    "\n",
    "inst = \"\"\"\n",
    "- You will make a step by step reasoning, with all available actions, assigning each action a qualification from 'A'(best possible assignation) to 'F'(worst possible assignation).\n",
    "- From the turn historial, you will try to retrieve information about what pokemons has the rival that are not in the field, so when a pokemon faints, you can choose to switch or prepare\n",
    "an attack using that information.\n",
    "- Avoid switching panic (switching between pokemons again and again, use historial to check wether to that current adversary you switched to a specific pokemon, your reasoning took you to\n",
    "select it).\n",
    "- You will reassignate categories based on past turn historial (a switch that ended in a bad outcome would be penalized) [examples below]\n",
    "\n",
    "examples:\n",
    "use thunderbolt (A) thunderbolt is very effective against POKEMON, so it would be a good option\n",
    "switch to pikachu (D) pikachu is effective against rival's pokemon, but current pokemon is equally effective, change doesn't make a difference\n",
    "switch to riolu (B) riolu is equally effective against rival's pokemon, but current pokemon hp is very low, and riolu is on a good state\n",
    "\"\"\""
   ]
  },
  {
   "cell_type": "code",
   "execution_count": 6,
   "metadata": {},
   "outputs": [
    {
     "name": "stdout",
     "output_type": "stream",
     "text": [
      "BATTLE STARTED\n"
     ]
    },
    {
     "ename": "KeyboardInterrupt",
     "evalue": "Interrupted by user",
     "output_type": "error",
     "traceback": [
      "\u001b[1;31m---------------------------------------------------------------------------\u001b[0m",
      "\u001b[1;31mKeyboardInterrupt\u001b[0m                         Traceback (most recent call last)",
      "Cell \u001b[1;32mIn[6], line 3\u001b[0m\n\u001b[0;32m      1\u001b[0m bdi \u001b[38;5;241m=\u001b[39m TrainerBDIF(\u001b[38;5;124m\"\u001b[39m\u001b[38;5;124mBDI\u001b[39m\u001b[38;5;124m\"\u001b[39m, LESS_SWITCH_RULES)\n\u001b[0;32m      2\u001b[0m llm \u001b[38;5;241m=\u001b[39m TrainerLLMFeed(\u001b[38;5;124m\"\u001b[39m\u001b[38;5;124mLLM\u001b[39m\u001b[38;5;124m\"\u001b[39m, specific_instructions\u001b[38;5;241m=\u001b[39minst, num_turns\u001b[38;5;241m=\u001b[39m\u001b[38;5;241m23\u001b[39m, talkative\u001b[38;5;241m=\u001b[39m \u001b[38;5;28;01mTrue\u001b[39;00m)\n\u001b[1;32m----> 3\u001b[0m \u001b[43mdo_battle\u001b[49m\u001b[43m(\u001b[49m\u001b[43mbdi\u001b[49m\u001b[43m,\u001b[49m\u001b[43m \u001b[49m\u001b[43mllm\u001b[49m\u001b[43m,\u001b[49m\u001b[43m \u001b[49m\u001b[38;5;28;43;01mTrue\u001b[39;49;00m\u001b[43m)\u001b[49m\n",
      "File \u001b[1;32mc:\\Users\\zahdehv\\Documents\\GITHUB Media\\pokemon-python\\loramon.py:536\u001b[0m, in \u001b[0;36mdo_battle\u001b[1;34m(t1, t2, debug)\u001b[0m\n\u001b[0;32m    534\u001b[0m \u001b[38;5;28;01mif\u001b[39;00m debug:\n\u001b[0;32m    535\u001b[0m     \u001b[38;5;28mprint\u001b[39m(\u001b[38;5;124m\"\u001b[39m\u001b[38;5;124mBATTLE STARTED\u001b[39m\u001b[38;5;124m\"\u001b[39m)\n\u001b[1;32m--> 536\u001b[0m     ans \u001b[38;5;241m=\u001b[39m \u001b[38;5;28;43minput\u001b[39;49m\u001b[43m(\u001b[49m\u001b[38;5;124;43m\"\u001b[39;49m\u001b[38;5;124;43mwould you like to pass turns manually?\u001b[39;49m\u001b[38;5;130;43;01m\\n\u001b[39;49;00m\u001b[38;5;124;43m\"\u001b[39;49m\u001b[43m)\u001b[49m\n\u001b[0;32m    537\u001b[0m     pt \u001b[38;5;241m=\u001b[39m (ans \u001b[38;5;241m==\u001b[39m \u001b[38;5;124m\"\u001b[39m\u001b[38;5;124my\u001b[39m\u001b[38;5;124m\"\u001b[39m)\n\u001b[0;32m    539\u001b[0m B \u001b[38;5;241m=\u001b[39m sim\u001b[38;5;241m.\u001b[39mBattle(\u001b[38;5;124m'\u001b[39m\u001b[38;5;124msingle\u001b[39m\u001b[38;5;124m'\u001b[39m, t1\u001b[38;5;241m.\u001b[39mname, t1\u001b[38;5;241m.\u001b[39mteam, t2\u001b[38;5;241m.\u001b[39mname, t2\u001b[38;5;241m.\u001b[39mteam)\n",
      "File \u001b[1;32mc:\\Users\\zahdehv\\Documents\\GITHUB Media\\pokemon-python\\.venv\\Lib\\site-packages\\ipykernel\\kernelbase.py:1282\u001b[0m, in \u001b[0;36mKernel.raw_input\u001b[1;34m(self, prompt)\u001b[0m\n\u001b[0;32m   1280\u001b[0m     msg \u001b[38;5;241m=\u001b[39m \u001b[38;5;124m\"\u001b[39m\u001b[38;5;124mraw_input was called, but this frontend does not support input requests.\u001b[39m\u001b[38;5;124m\"\u001b[39m\n\u001b[0;32m   1281\u001b[0m     \u001b[38;5;28;01mraise\u001b[39;00m StdinNotImplementedError(msg)\n\u001b[1;32m-> 1282\u001b[0m \u001b[38;5;28;01mreturn\u001b[39;00m \u001b[38;5;28;43mself\u001b[39;49m\u001b[38;5;241;43m.\u001b[39;49m\u001b[43m_input_request\u001b[49m\u001b[43m(\u001b[49m\n\u001b[0;32m   1283\u001b[0m \u001b[43m    \u001b[49m\u001b[38;5;28;43mstr\u001b[39;49m\u001b[43m(\u001b[49m\u001b[43mprompt\u001b[49m\u001b[43m)\u001b[49m\u001b[43m,\u001b[49m\n\u001b[0;32m   1284\u001b[0m \u001b[43m    \u001b[49m\u001b[38;5;28;43mself\u001b[39;49m\u001b[38;5;241;43m.\u001b[39;49m\u001b[43m_parent_ident\u001b[49m\u001b[43m[\u001b[49m\u001b[38;5;124;43m\"\u001b[39;49m\u001b[38;5;124;43mshell\u001b[39;49m\u001b[38;5;124;43m\"\u001b[39;49m\u001b[43m]\u001b[49m\u001b[43m,\u001b[49m\n\u001b[0;32m   1285\u001b[0m \u001b[43m    \u001b[49m\u001b[38;5;28;43mself\u001b[39;49m\u001b[38;5;241;43m.\u001b[39;49m\u001b[43mget_parent\u001b[49m\u001b[43m(\u001b[49m\u001b[38;5;124;43m\"\u001b[39;49m\u001b[38;5;124;43mshell\u001b[39;49m\u001b[38;5;124;43m\"\u001b[39;49m\u001b[43m)\u001b[49m\u001b[43m,\u001b[49m\n\u001b[0;32m   1286\u001b[0m \u001b[43m    \u001b[49m\u001b[43mpassword\u001b[49m\u001b[38;5;241;43m=\u001b[39;49m\u001b[38;5;28;43;01mFalse\u001b[39;49;00m\u001b[43m,\u001b[49m\n\u001b[0;32m   1287\u001b[0m \u001b[43m\u001b[49m\u001b[43m)\u001b[49m\n",
      "File \u001b[1;32mc:\\Users\\zahdehv\\Documents\\GITHUB Media\\pokemon-python\\.venv\\Lib\\site-packages\\ipykernel\\kernelbase.py:1325\u001b[0m, in \u001b[0;36mKernel._input_request\u001b[1;34m(self, prompt, ident, parent, password)\u001b[0m\n\u001b[0;32m   1322\u001b[0m \u001b[38;5;28;01mexcept\u001b[39;00m \u001b[38;5;167;01mKeyboardInterrupt\u001b[39;00m:\n\u001b[0;32m   1323\u001b[0m     \u001b[38;5;66;03m# re-raise KeyboardInterrupt, to truncate traceback\u001b[39;00m\n\u001b[0;32m   1324\u001b[0m     msg \u001b[38;5;241m=\u001b[39m \u001b[38;5;124m\"\u001b[39m\u001b[38;5;124mInterrupted by user\u001b[39m\u001b[38;5;124m\"\u001b[39m\n\u001b[1;32m-> 1325\u001b[0m     \u001b[38;5;28;01mraise\u001b[39;00m \u001b[38;5;167;01mKeyboardInterrupt\u001b[39;00m(msg) \u001b[38;5;28;01mfrom\u001b[39;00m \u001b[38;5;28;01mNone\u001b[39;00m\n\u001b[0;32m   1326\u001b[0m \u001b[38;5;28;01mexcept\u001b[39;00m \u001b[38;5;167;01mException\u001b[39;00m:\n\u001b[0;32m   1327\u001b[0m     \u001b[38;5;28mself\u001b[39m\u001b[38;5;241m.\u001b[39mlog\u001b[38;5;241m.\u001b[39mwarning(\u001b[38;5;124m\"\u001b[39m\u001b[38;5;124mInvalid Message:\u001b[39m\u001b[38;5;124m\"\u001b[39m, exc_info\u001b[38;5;241m=\u001b[39m\u001b[38;5;28;01mTrue\u001b[39;00m)\n",
      "\u001b[1;31mKeyboardInterrupt\u001b[0m: Interrupted by user"
     ]
    }
   ],
   "source": [
    "bdi = TrainerBDIF(\"BDI\", LESS_SWITCH_RULES)\n",
    "llm = TrainerLLMFeed(\"LLM\", specific_instructions=inst, num_turns=23, talkative= True)\n",
    "do_battle(bdi, llm, True)"
   ]
  },
  {
   "cell_type": "code",
   "execution_count": 7,
   "metadata": {},
   "outputs": [
    {
     "name": "stdout",
     "output_type": "stream",
     "text": [
      "mtch: 0\n",
      "REASONING FAIL: 429 Resource has been exhausted (e.g. check quota). \n",
      "waiting 2 seconds\n",
      "REASONING FAIL: 429 Resource has been exhausted (e.g. check quota). \n",
      "waiting 4 seconds\n",
      "REASONING FAIL: 429 Resource has been exhausted (e.g. check quota). \n",
      "waiting 8 seconds\n",
      "REASONING FAIL: 429 Resource has been exhausted (e.g. check quota). \n",
      "waiting 16 seconds\n",
      "REASONING FAIL: 429 Resource has been exhausted (e.g. check quota). \n",
      "waiting 32 seconds\n",
      "REASONING FAIL: 429 Resource has been exhausted (e.g. check quota). \n",
      "waiting 64 seconds\n",
      "REASONING FAIL: 429 Resource has been exhausted (e.g. check quota). \n",
      "waiting 256 seconds\n"
     ]
    }
   ],
   "source": [
    "results_bdi_vs_llm = do_matches(TrainerBDIF(\"BDI\", LESS_SWITCH_RULES), TrainerLLMFeed(\"LLM\", specific_instructions=inst, num_turns=23))"
   ]
  },
  {
   "cell_type": "code",
   "execution_count": 64,
   "metadata": {},
   "outputs": [
    {
     "ename": "NameError",
     "evalue": "name 'results_bdi_vs_llm' is not defined",
     "output_type": "error",
     "traceback": [
      "\u001b[1;31m---------------------------------------------------------------------------\u001b[0m",
      "\u001b[1;31mNameError\u001b[0m                                 Traceback (most recent call last)",
      "Cell \u001b[1;32mIn[64], line 1\u001b[0m\n\u001b[1;32m----> 1\u001b[0m show_results(\u001b[43mresults_bdi_vs_llm\u001b[49m)\n",
      "\u001b[1;31mNameError\u001b[0m: name 'results_bdi_vs_llm' is not defined"
     ]
    }
   ],
   "source": [
    "show_results(results_bdi_vs_llm)"
   ]
  },
  {
   "cell_type": "code",
   "execution_count": null,
   "metadata": {},
   "outputs": [],
   "source": [
    "binomtest(results_bdi_vs_llm.count(\"BDI\"), len(results_bdi_vs_llm), p=0.5, alternative='greater')"
   ]
  }
 ],
 "metadata": {
  "kernelspec": {
   "display_name": ".venv",
   "language": "python",
   "name": "python3"
  },
  "language_info": {
   "codemirror_mode": {
    "name": "ipython",
    "version": 3
   },
   "file_extension": ".py",
   "mimetype": "text/x-python",
   "name": "python",
   "nbconvert_exporter": "python",
   "pygments_lexer": "ipython3",
   "version": "3.11.2"
  }
 },
 "nbformat": 4,
 "nbformat_minor": 2
}
